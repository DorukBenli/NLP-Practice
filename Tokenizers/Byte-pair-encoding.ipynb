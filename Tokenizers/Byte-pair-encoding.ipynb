{
 "cells": [
  {
   "cell_type": "code",
   "execution_count": 37,
   "metadata": {},
   "outputs": [],
   "source": [
    "import collections\n",
    "import re\n",
    "\n",
    "sample_text = \"the beginning of the end is the beginning of something new\"\n",
    "test_str=sample_text.lower()\n",
    "\n",
    "res = re.findall( r'\\w+|[^\\s\\w]+', test_str)\n",
    "\n"
   ]
  },
  {
   "cell_type": "markdown",
   "metadata": {},
   "source": [
    "turn the above list to a dictionary with the frequencies"
   ]
  },
  {
   "cell_type": "code",
   "execution_count": 38,
   "metadata": {},
   "outputs": [
    {
     "data": {
      "text/plain": [
       "{'t h e ': 3,\n",
       " 'b e g i n n i n g ': 2,\n",
       " 'o f ': 2,\n",
       " 'e n d ': 1,\n",
       " 'i s ': 1,\n",
       " 's o m e t h i n g ': 1,\n",
       " 'n e w ': 1}"
      ]
     },
     "execution_count": 38,
     "metadata": {},
     "output_type": "execute_result"
    }
   ],
   "source": [
    "from collections import OrderedDict\n",
    "word_dict ={}\n",
    "\n",
    "for i in res:\n",
    "    newstr = \"\"\n",
    "    for ch in i:\n",
    "        newstr += ch\n",
    "        newstr += \" \"\n",
    "    if newstr in word_dict:\n",
    "        word_dict[newstr] += 1 #get the frequency of the word\n",
    "    else:\n",
    "        word_dict[newstr] = 1 # first appereance of the word\n",
    "\n",
    "word_dict"
   ]
  },
  {
   "cell_type": "markdown",
   "metadata": {},
   "source": [
    "Byte-pair Encoding\n",
    "\n",
    "check: https://www.geeksforgeeks.org/subword-tokenization-in-nlp/"
   ]
  },
  {
   "cell_type": "code",
   "execution_count": 42,
   "metadata": {},
   "outputs": [
    {
     "name": "stdout",
     "output_type": "stream",
     "text": [
      "Merged pair ('i', 'n')\n",
      "Merged pair ('t', 'h')\n",
      "Merged pair ('th', 'e')\n",
      "Merged pair ('in', 'g')\n",
      "Merged pair ('b', 'e')\n",
      "Merged pair ('be', 'g')\n",
      "Merged pair ('beg', 'in')\n",
      "Merged pair ('begin', 'n')\n",
      "Merged pair ('beginn', 'ing')\n",
      "Merged pair ('o', 'f')\n",
      "Final vocabulary: {'the ': 3, 'beginning ': 2, 'of ': 2, 'e n d ': 1, 'i s ': 1, 's o m e th ing ': 1, 'n e w ': 1}\n"
     ]
    }
   ],
   "source": [
    "def get_stats(vocab):\n",
    "    pairs = collections.defaultdict(int)\n",
    "\n",
    "    for word,freq in vocab.items():\n",
    "        symbols = word.split()\n",
    "        for i in range(len(symbols)-1):\n",
    "            pairs[symbols[i], symbols[i+1]] += freq\n",
    "    return pairs\n",
    "\n",
    "\n",
    "def merge_vocab(pair, input_vocab):\n",
    "    output_vocab = {}\n",
    "    bigram = re.escape(' '.join(pair))\n",
    "    p = re.compile(r'(?<!\\S)' + bigram + r'(?!\\S)')\n",
    "    for word in input_vocab:\n",
    "        out_word = p.sub(''.join(pair),word)\n",
    "        output_vocab[out_word] = input_vocab[word]\n",
    "    return output_vocab\n",
    "\n",
    "\n",
    "def BPE(vocab,num_merges):\n",
    "    for i in range(num_merges):\n",
    "        pairs = get_stats(vocab)\n",
    "        best_pair = max(pairs, key=pairs.get)\n",
    "        vocab = merge_vocab(best_pair, vocab)\n",
    "        print(f'Merged pair {best_pair}')\n",
    "    return vocab\n",
    "\n",
    "num_merges = 10\n",
    "\n",
    "result = BPE(word_dict, num_merges)\n",
    "print('Final vocabulary:', result)\n"
   ]
  }
 ],
 "metadata": {
  "kernelspec": {
   "display_name": "Python 3",
   "language": "python",
   "name": "python3"
  },
  "language_info": {
   "codemirror_mode": {
    "name": "ipython",
    "version": 3
   },
   "file_extension": ".py",
   "mimetype": "text/x-python",
   "name": "python",
   "nbconvert_exporter": "python",
   "pygments_lexer": "ipython3",
   "version": "3.12.3"
  }
 },
 "nbformat": 4,
 "nbformat_minor": 2
}
