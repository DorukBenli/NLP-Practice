{
 "cells": [
  {
   "cell_type": "markdown",
   "metadata": {},
   "source": [
    "# Byte Pair Encoding (BPE) Algorithm\n",
    "\n",
    "Byte Pair Encoding (BPE) is a simple form of data compression and tokenization. It iteratively replaces the most frequent pair of consecutive symbols in a sequence with a new symbol. This process helps in reducing the vocabulary size while preserving the structure of the text.\n",
    "\n",
    "## Pseudocode\n",
    "\n",
    "### Step 1: Initialize Vocabulary\n",
    "1. Create a vocabulary where each word is split into characters with spaces between them.\n",
    "2. Count the frequency of each word in the vocabulary.\n",
    "\n",
    "### Step 2: Define Helper Functions\n",
    "\n",
    "#### `get_stats(vocab)`\n",
    "- Input: `vocab` - A dictionary where keys are words and values are their frequencies.\n",
    "- Output: A dictionary of pairs of consecutive symbols and their frequencies.\n",
    "- Algorithm:\n",
    "  1. Initialize an empty dictionary `pairs`.\n",
    "  2. For each word and its frequency in `vocab`:\n",
    "     - Split the word into symbols.\n",
    "     - For each pair of consecutive symbols in the word:\n",
    "       - Increment the count of the pair in `pairs` by the frequency of the word.\n",
    "  3. Return `pairs`.\n",
    "\n",
    "#### `merge_vocab(pair, input_vocab)`\n",
    "- Input: `pair` - A tuple of the most frequent pair of symbols.\n",
    "          `input_vocab` - The current vocabulary.\n",
    "- Output: A new vocabulary with the pair merged into a single symbol.\n",
    "- Algorithm:\n",
    "  1. Initialize an empty dictionary `output_vocab`.\n",
    "  2. Create a regex pattern `p` to find the pair in the vocabulary.\n",
    "  3. For each word in `input_vocab`:\n",
    "     - Replace the pair in the word with the merged symbol.\n",
    "     - Update `output_vocab` with the new word and its frequency.\n",
    "  4. Return `output_vocab`.\n",
    "\n",
    "### Step 3: Byte Pair Encoding (BPE) Function\n",
    "\n",
    "#### `BPE(vocab, num_merges)`\n",
    "- Input: `vocab` - The initial vocabulary.\n",
    "          `num_merges` - The number of merge operations to perform.\n",
    "- Output: The final vocabulary after all merges.\n",
    "- Algorithm:\n",
    "  1. For `num_merges` iterations:\n",
    "     - Get the frequency of pairs using `get_stats(vocab)`.\n",
    "     - Find the most frequent pair in `pairs`.\n",
    "     - Merge the most frequent pair in `vocab` using `merge_vocab`.\n",
    "     - Print the merged pair.\n",
    "  2. Return the final `vocab`."
   ]
  },
  {
   "cell_type": "code",
   "execution_count": 37,
   "metadata": {},
   "outputs": [],
   "source": [
    "import collections\n",
    "import re\n",
    "\n",
    "sample_text = \"the beginning of the end is the beginning of something new\"\n",
    "test_str=sample_text.lower()\n",
    "\n",
    "res = re.findall( r'\\w+|[^\\s\\w]+', test_str)\n",
    "\n"
   ]
  },
  {
   "cell_type": "markdown",
   "metadata": {},
   "source": [
    "turn the above list to a dictionary with the frequencies"
   ]
  },
  {
   "cell_type": "code",
   "execution_count": 38,
   "metadata": {},
   "outputs": [
    {
     "data": {
      "text/plain": [
       "{'t h e ': 3,\n",
       " 'b e g i n n i n g ': 2,\n",
       " 'o f ': 2,\n",
       " 'e n d ': 1,\n",
       " 'i s ': 1,\n",
       " 's o m e t h i n g ': 1,\n",
       " 'n e w ': 1}"
      ]
     },
     "execution_count": 38,
     "metadata": {},
     "output_type": "execute_result"
    }
   ],
   "source": [
    "word_dict ={}\n",
    "\n",
    "for i in res:\n",
    "    newstr = \"\"\n",
    "    for ch in i:\n",
    "        newstr += ch\n",
    "        newstr += \" \"\n",
    "    if newstr in word_dict:\n",
    "        word_dict[newstr] += 1 #get the frequency of the word\n",
    "    else:\n",
    "        word_dict[newstr] = 1 # first appereance of the word\n",
    "\n",
    "word_dict"
   ]
  },
  {
   "cell_type": "markdown",
   "metadata": {},
   "source": [
    "Byte-pair Encoding\n",
    "\n",
    "check: https://www.geeksforgeeks.org/subword-tokenization-in-nlp/"
   ]
  },
  {
   "cell_type": "code",
   "execution_count": 42,
   "metadata": {},
   "outputs": [
    {
     "name": "stdout",
     "output_type": "stream",
     "text": [
      "Merged pair ('i', 'n')\n",
      "Merged pair ('t', 'h')\n",
      "Merged pair ('th', 'e')\n",
      "Merged pair ('in', 'g')\n",
      "Merged pair ('b', 'e')\n",
      "Merged pair ('be', 'g')\n",
      "Merged pair ('beg', 'in')\n",
      "Merged pair ('begin', 'n')\n",
      "Merged pair ('beginn', 'ing')\n",
      "Merged pair ('o', 'f')\n",
      "Final vocabulary: {'the ': 3, 'beginning ': 2, 'of ': 2, 'e n d ': 1, 'i s ': 1, 's o m e th ing ': 1, 'n e w ': 1}\n"
     ]
    }
   ],
   "source": [
    "def get_stats(vocab):\n",
    "    pairs = collections.defaultdict(int)\n",
    "\n",
    "    for word,freq in vocab.items():\n",
    "        symbols = word.split()\n",
    "        for i in range(len(symbols)-1):\n",
    "            pairs[symbols[i], symbols[i+1]] += freq\n",
    "    return pairs\n",
    "\n",
    "\n",
    "def merge_vocab(pair, input_vocab):\n",
    "    output_vocab = {}\n",
    "    bigram = re.escape(' '.join(pair))\n",
    "    p = re.compile(r'(?<!\\S)' + bigram + r'(?!\\S)')\n",
    "    for word in input_vocab:\n",
    "        out_word = p.sub(''.join(pair),word)\n",
    "        output_vocab[out_word] = input_vocab[word]\n",
    "    return output_vocab\n",
    "\n",
    "\n",
    "def BPE(vocab,num_merges):\n",
    "    for i in range(num_merges):\n",
    "        pairs = get_stats(vocab)\n",
    "        best_pair = max(pairs, key=pairs.get)\n",
    "        vocab = merge_vocab(best_pair, vocab)\n",
    "        print(f'Merged pair {best_pair}')\n",
    "    return vocab\n",
    "\n",
    "num_merges = 10\n",
    "\n",
    "result = BPE(word_dict, num_merges)\n",
    "print('Final vocabulary:', result)\n"
   ]
  }
 ],
 "metadata": {
  "kernelspec": {
   "display_name": "Python 3",
   "language": "python",
   "name": "python3"
  },
  "language_info": {
   "codemirror_mode": {
    "name": "ipython",
    "version": 3
   },
   "file_extension": ".py",
   "mimetype": "text/x-python",
   "name": "python",
   "nbconvert_exporter": "python",
   "pygments_lexer": "ipython3",
   "version": "3.12.3"
  }
 },
 "nbformat": 4,
 "nbformat_minor": 2
}
